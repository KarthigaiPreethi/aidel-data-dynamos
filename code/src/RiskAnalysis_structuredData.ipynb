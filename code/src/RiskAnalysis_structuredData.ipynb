{
  "nbformat": 4,
  "nbformat_minor": 0,
  "metadata": {
    "colab": {
      "provenance": []
    },
    "kernelspec": {
      "name": "python3",
      "display_name": "Python 3"
    },
    "language_info": {
      "name": "python"
    }
  },
  "cells": [
    {
      "cell_type": "code",
      "execution_count": null,
      "metadata": {
        "colab": {
          "base_uri": "https://localhost:8080/"
        },
        "id": "280qPdnm0t9n",
        "outputId": "410e6da0-ddfc-4527-dc0e-8756f827b264"
      },
      "outputs": [
        {
          "output_type": "stream",
          "name": "stdout",
          "text": [
            "Collecting fuzzywuzzy\n",
            "  Downloading fuzzywuzzy-0.18.0-py2.py3-none-any.whl.metadata (4.9 kB)\n",
            "Downloading fuzzywuzzy-0.18.0-py2.py3-none-any.whl (18 kB)\n",
            "Installing collected packages: fuzzywuzzy\n",
            "Successfully installed fuzzywuzzy-0.18.0\n"
          ]
        }
      ],
      "source": [
        "pip install fuzzywuzzy"
      ]
    },
    {
      "cell_type": "code",
      "source": [
        "pip install openpyxl"
      ],
      "metadata": {
        "colab": {
          "base_uri": "https://localhost:8080/"
        },
        "id": "QAYPAAqt1RTT",
        "outputId": "d3cda3f0-6de2-40ee-bd36-49c1eed00f4a"
      },
      "execution_count": null,
      "outputs": [
        {
          "output_type": "stream",
          "name": "stdout",
          "text": [
            "Requirement already satisfied: openpyxl in /usr/local/lib/python3.11/dist-packages (3.1.5)\n",
            "Requirement already satisfied: et-xmlfile in /usr/local/lib/python3.11/dist-packages (from openpyxl) (2.0.0)\n"
          ]
        }
      ]
    },
    {
      "cell_type": "code",
      "source": [
        "import pandas as pd\n",
        "import spacy\n",
        "from sklearn.ensemble import IsolationForest\n",
        "import requests\n",
        "\n",
        "def load_data(file_path):\n",
        "    df = pd.read_excel(file_path, engine=\"openpyxl\")\n",
        "\n",
        "    # Clean the Amount column\n",
        "    df[\"Amount\"] = df[\"Amount\"].astype(str)  # Ensure all values are strings\n",
        "    df[\"Amount\"] = df[\"Amount\"].str.replace(\"[^0-9.,]\", \"\", regex=True)  # Remove non-numeric characters\n",
        "    df[\"Amount\"] = df[\"Amount\"].str.replace(\",\", \".\")  # Replace commas with dots\n",
        "    df[\"Amount\"] = pd.to_numeric(df[\"Amount\"], errors=\"coerce\")  # Convert to float, setting errors to NaN\n",
        "\n",
        "    return df\n",
        "\n",
        "def extract_entities(text, nlp):\n",
        "    doc = nlp(text)\n",
        "    entities = [ent.text for ent in doc.ents if ent.label_ in [\"ORG\", \"PERSON\"]]\n",
        "    return entities\n",
        "\n",
        "def enrich_entity(name):\n",
        "    try:\n",
        "        search_url = f\"https://api.opencorporates.com/v0.4/companies/search?q={name}\"\n",
        "        response = requests.get(search_url, timeout=10)\n",
        "        if response.status_code == 200:\n",
        "            return response.json()\n",
        "        else:\n",
        "            return {\"name\": name, \"error\": \"No data found\"}\n",
        "    except requests.exceptions.RequestException as e:\n",
        "        print(f\"Error fetching data for {name}: {e}\")\n",
        "        return {\"name\": name, \"error\": \"API request failed\"}\n",
        "\n",
        "def detect_anomalies(data):\n",
        "    model = IsolationForest(contamination=0.05)\n",
        "    data['anomaly_score'] = model.fit_predict(data[['Amount']])\n",
        "    return data\n",
        "\n",
        "def classify_entity(name):\n",
        "    categories = {\"corporation\": [\"Inc\", \"Corp\", \"LLC\", \"Capital\", \"Partners\"],\n",
        "                  \"non-profit\": [\"Foundation\", \"Charity\", \"Save\", \"Children\"],\n",
        "                  \"government\": [\"Department\", \"Agency\", \"Bureau\"]}\n",
        "    for category, keywords in categories.items():\n",
        "        if any(word in name for word in keywords):\n",
        "            return category\n",
        "    return \"unknown\"\n",
        "\n",
        "def assign_risk_score(entity_data):\n",
        "    risk_score = 0\n",
        "    if entity_data.get(\"category\", \"\") == \"shell company\":\n",
        "        risk_score += 5\n",
        "    if entity_data.get(\"anomaly_score\", 0) == -1:\n",
        "        risk_score += 3\n",
        "    return risk_score\n",
        "\n",
        "def main(file_path):\n",
        "    nlp = spacy.load(\"en_core_web_sm\")\n",
        "    df = load_data(file_path)\n",
        "    df['entities'] = df.apply(lambda x: extract_entities(str(x['transaction_details']), nlp) + [x['Payers_name'], x['Receiver_Name']], axis=1)\n",
        "\n",
        "    enriched_data = []\n",
        "    for entity in df['entities'].explode().dropna().unique():\n",
        "        entity_info = enrich_entity(entity)\n",
        "        entity_info['name'] = entity\n",
        "        entity_info['category'] = classify_entity(entity)\n",
        "        entity_info['risk_score'] = assign_risk_score(entity_info)\n",
        "        enriched_data.append(entity_info)\n",
        "\n",
        "    enriched_df = pd.DataFrame(enriched_data)\n",
        "    final_df = df.explode('entities').merge(enriched_df, left_on='entities', right_on='name', how='left')\n",
        "    final_df = detect_anomalies(final_df)\n",
        "\n",
        "    final_df.to_excel(\"Risk_analysis_structured_output.xlsx\", index=False)\n",
        "    print(\"Processed data saved to Risk_analysis_structured_output.xlsx\")\n",
        "\n",
        "if __name__ == \"__main__\":\n",
        "    main(\"/content/sample_data/dataset.xlsx\")"
      ],
      "metadata": {
        "colab": {
          "base_uri": "https://localhost:8080/"
        },
        "id": "yXGPsrjg1LRt",
        "outputId": "58077dca-1776-42c1-cc0d-650ade589e40"
      },
      "execution_count": null,
      "outputs": [
        {
          "output_type": "stream",
          "name": "stdout",
          "text": [
            "Processed data saved to output.xlsx\n"
          ]
        }
      ]
    }
  ]
}